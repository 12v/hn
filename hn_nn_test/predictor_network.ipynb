{
 "cells": [
  {
   "cell_type": "code",
   "execution_count": 1,
   "metadata": {},
   "outputs": [],
   "source": [
    "import os\n",
    "import torch\n",
    "from torch import nn\n",
    "from torch.utils.data import DataLoader\n",
    "from torchvision import datasets, transforms\n",
    "import numpy as np\n",
    "import pandas as pd\n",
    "from torch.utils.data import Dataset, DataLoader\n",
    "import matplotlib.pyplot as plt\n",
    "from numpy import array\n",
    "import ast\n",
    "import h5py"
   ]
  },
  {
   "cell_type": "code",
   "execution_count": 2,
   "metadata": {},
   "outputs": [
    {
     "data": {
      "text/html": [
       "<div>\n",
       "<style scoped>\n",
       "    .dataframe tbody tr th:only-of-type {\n",
       "        vertical-align: middle;\n",
       "    }\n",
       "\n",
       "    .dataframe tbody tr th {\n",
       "        vertical-align: top;\n",
       "    }\n",
       "\n",
       "    .dataframe thead th {\n",
       "        text-align: right;\n",
       "    }\n",
       "</style>\n",
       "<table border=\"1\" class=\"dataframe\">\n",
       "  <thead>\n",
       "    <tr style=\"text-align: right;\">\n",
       "      <th></th>\n",
       "      <th>id</th>\n",
       "      <th>score</th>\n",
       "      <th>mean_vector</th>\n",
       "    </tr>\n",
       "  </thead>\n",
       "  <tbody>\n",
       "    <tr>\n",
       "      <th>0</th>\n",
       "      <td>3150000</td>\n",
       "      <td>19</td>\n",
       "      <td>[0.00077195687, 0.00042079733, 0.00012249911, ...</td>\n",
       "    </tr>\n",
       "    <tr>\n",
       "      <th>1</th>\n",
       "      <td>3500001</td>\n",
       "      <td>1</td>\n",
       "      <td>[-0.0017264247, -0.00029120408, 0.0007486603, ...</td>\n",
       "    </tr>\n",
       "    <tr>\n",
       "      <th>2</th>\n",
       "      <td>3150001</td>\n",
       "      <td>2</td>\n",
       "      <td>[0.0006859072, 1.0250059e-05, 0.0010865574, -0...</td>\n",
       "    </tr>\n",
       "    <tr>\n",
       "      <th>3</th>\n",
       "      <td>6050000</td>\n",
       "      <td>1</td>\n",
       "      <td>[-0.00013478259, -0.0004138446, -0.0004691301,...</td>\n",
       "    </tr>\n",
       "    <tr>\n",
       "      <th>4</th>\n",
       "      <td>150000</td>\n",
       "      <td>1</td>\n",
       "      <td>[0.00026220054, -0.0013449227, 0.0005244772, -...</td>\n",
       "    </tr>\n",
       "  </tbody>\n",
       "</table>\n",
       "</div>"
      ],
      "text/plain": [
       "        id  score                                        mean_vector\n",
       "0  3150000     19  [0.00077195687, 0.00042079733, 0.00012249911, ...\n",
       "1  3500001      1  [-0.0017264247, -0.00029120408, 0.0007486603, ...\n",
       "2  3150001      2  [0.0006859072, 1.0250059e-05, 0.0010865574, -0...\n",
       "3  6050000      1  [-0.00013478259, -0.0004138446, -0.0004691301,...\n",
       "4   150000      1  [0.00026220054, -0.0013449227, 0.0005244772, -..."
      ]
     },
     "execution_count": 2,
     "metadata": {},
     "output_type": "execute_result"
    }
   ],
   "source": [
    "# Import the CSV file containing HN titles, mean vectors and scores\n",
    "df = pd.read_hdf('hn_title_mean_vectors_scores.h5', key='df_clean')\n",
    "\n",
    "df.head()"
   ]
  },
  {
   "cell_type": "code",
   "execution_count": 77,
   "metadata": {},
   "outputs": [
    {
     "data": {
      "text/plain": [
       "(99182, 4)"
      ]
     },
     "execution_count": 77,
     "metadata": {},
     "output_type": "execute_result"
    }
   ],
   "source": [
    "df.shape"
   ]
  },
  {
   "cell_type": "code",
   "execution_count": 10,
   "metadata": {},
   "outputs": [],
   "source": [
    "# Create dictionary in matrix and score format\n",
    "data = {\n",
    "    \"matrix\": df['mean_vector'].tolist(),\n",
    "    \"score\": df['score'].values\n",
    "}\n",
    "dataframe = pd.DataFrame(data)\n"
   ]
  },
  {
   "cell_type": "code",
   "execution_count": 6,
   "metadata": {},
   "outputs": [],
   "source": [
    "# #Generating random data to test training\n",
    "# data = {\n",
    "#     \"matrix\": [np.random.rand(256, 1) for _ in range(10000)],\n",
    "#     \"score\": np.random.rand(10000),\n",
    "#     }\n",
    "# dataframe = pd.DataFrame(data)"
   ]
  },
  {
   "cell_type": "code",
   "execution_count": 7,
   "metadata": {},
   "outputs": [
    {
     "data": {
      "text/html": [
       "<div>\n",
       "<style scoped>\n",
       "    .dataframe tbody tr th:only-of-type {\n",
       "        vertical-align: middle;\n",
       "    }\n",
       "\n",
       "    .dataframe tbody tr th {\n",
       "        vertical-align: top;\n",
       "    }\n",
       "\n",
       "    .dataframe thead th {\n",
       "        text-align: right;\n",
       "    }\n",
       "</style>\n",
       "<table border=\"1\" class=\"dataframe\">\n",
       "  <thead>\n",
       "    <tr style=\"text-align: right;\">\n",
       "      <th></th>\n",
       "      <th>matrix</th>\n",
       "      <th>score</th>\n",
       "    </tr>\n",
       "  </thead>\n",
       "  <tbody>\n",
       "    <tr>\n",
       "      <th>0</th>\n",
       "      <td>[[0.07713149956433529], [0.3551647154941271], ...</td>\n",
       "      <td>0.204583</td>\n",
       "    </tr>\n",
       "    <tr>\n",
       "      <th>1</th>\n",
       "      <td>[[0.1690183103348072], [0.9046856919847626], [...</td>\n",
       "      <td>0.087802</td>\n",
       "    </tr>\n",
       "    <tr>\n",
       "      <th>2</th>\n",
       "      <td>[[0.4775935110488211], [0.7795798691007657], [...</td>\n",
       "      <td>0.429929</td>\n",
       "    </tr>\n",
       "    <tr>\n",
       "      <th>3</th>\n",
       "      <td>[[0.02972295115012913], [0.8650728475654031], ...</td>\n",
       "      <td>0.652238</td>\n",
       "    </tr>\n",
       "    <tr>\n",
       "      <th>4</th>\n",
       "      <td>[[0.3217942936974091], [0.641035480397385], [0...</td>\n",
       "      <td>0.550710</td>\n",
       "    </tr>\n",
       "  </tbody>\n",
       "</table>\n",
       "</div>"
      ],
      "text/plain": [
       "                                              matrix     score\n",
       "0  [[0.07713149956433529], [0.3551647154941271], ...  0.204583\n",
       "1  [[0.1690183103348072], [0.9046856919847626], [...  0.087802\n",
       "2  [[0.4775935110488211], [0.7795798691007657], [...  0.429929\n",
       "3  [[0.02972295115012913], [0.8650728475654031], ...  0.652238\n",
       "4  [[0.3217942936974091], [0.641035480397385], [0...  0.550710"
      ]
     },
     "execution_count": 7,
     "metadata": {},
     "output_type": "execute_result"
    }
   ],
   "source": [
    "dataframe.head()"
   ]
  },
  {
   "cell_type": "code",
   "execution_count": 11,
   "metadata": {},
   "outputs": [],
   "source": [
    "\n",
    "\n",
    "class RandomDataset(Dataset):\n",
    "    def __init__(self, dataframe):\n",
    "        self.dataframe = dataframe\n",
    "\n",
    "    def __len__(self):\n",
    "        return len(self.dataframe)\n",
    "\n",
    "    def __getitem__(self, idx):\n",
    "        # Extract the matrix and score\n",
    "        matrix = self.dataframe.iloc[idx][\"matrix\"]\n",
    "        score = self.dataframe.iloc[idx][\"score\"]\n",
    "        \n",
    "        # Convert to PyTorch tensors\n",
    "        matrix_tensor = torch.tensor(matrix, dtype=torch.float32).squeeze() \n",
    "        score_tensor = torch.tensor(score, dtype=torch.float32)\n",
    "        \n",
    "        return matrix_tensor, score_tensor\n",
    "\n",
    "# Create Dataset\n",
    "dataset = RandomDataset(dataframe)\n",
    "#DODGY\n",
    "\n",
    "# Defining DataLoader\n",
    "dataloader = DataLoader(dataset, batch_size=32, shuffle=True)\n",
    "\n",
    "class NeuralNetwork(nn.Module):\n",
    "    def __init__(self):\n",
    "        super().__init__()\n",
    "        self.linear_relu_stack = nn.Sequential(\n",
    "            nn.Linear(256, 128),\n",
    "            nn.ReLU(),\n",
    "            nn.Dropout(p=0.1),\n",
    "            nn.Linear(128, 64),\n",
    "            nn.ReLU(),\n",
    "            nn.Dropout(p=0.1),\n",
    "            nn.Linear(64, 1),\n",
    "        )\n",
    "\n",
    "    def forward(self, x):\n",
    "        logits = self.linear_relu_stack(x)\n",
    "        return logits\n",
    "criterion = nn.MSELoss()\n",
    "\n"
   ]
  },
  {
   "cell_type": "code",
   "execution_count": 12,
   "metadata": {},
   "outputs": [
    {
     "name": "stdout",
     "output_type": "stream",
     "text": [
      "Epoch [20/20], Loss: 38.8665\n"
     ]
    },
    {
     "data": {
      "text/plain": [
       "[1369.8733,\n",
       " 1365.763,\n",
       " 1366.2659,\n",
       " 1365.1431,\n",
       " 1364.4442,\n",
       " 1362.7783,\n",
       " 1361.1803,\n",
       " 1360.2452,\n",
       " 1359.6838,\n",
       " 1359.277,\n",
       " 1359.2263,\n",
       " 1358.9636,\n",
       " 1358.5545,\n",
       " 1358.312,\n",
       " 1357.214,\n",
       " 1357.8838,\n",
       " 1357.255,\n",
       " 1356.0181,\n",
       " 1356.1941,\n",
       " 1355.681]"
      ]
     },
     "execution_count": 12,
     "metadata": {},
     "output_type": "execute_result"
    }
   ],
   "source": [
    "\n",
    "\n",
    "epoch_losses = []\n",
    "\n",
    "model = NeuralNetwork()\n",
    "optimiser = torch.optim.Adam(model.parameters(), lr=0.001)\n",
    "epochs=20\n",
    "for epoch in range(epochs):\n",
    "    epoch_loss = 0.0\n",
    "    for batch in dataloader:\n",
    "        # Get the input matrix and target score\n",
    "        inputs, targets = batch\n",
    "        \n",
    "        # Forward pass\n",
    "        predictions = model(inputs)\n",
    "        loss = criterion(predictions.squeeze(), targets)  # Squeeze to match dimensions\n",
    "        \n",
    "        # Backward pass and optimisation\n",
    "        optimiser.zero_grad()\n",
    "        loss.backward()\n",
    "        optimiser.step()\n",
    "        \n",
    "        epoch_loss += loss.item()\n",
    "\n",
    "    epoch_loss /= len(dataloader)\n",
    "    epoch_losses.append(epoch_loss)\n",
    "\n",
    "\n",
    "\n",
    "\n",
    "print(f\"Epoch [{epoch+1}/{epochs}], Loss: {loss.item():.4f}\")\n",
    "\n",
    "epoch_losses = [round(loss, 4) for loss in epoch_losses]\n",
    "epoch_losses\n"
   ]
  },
  {
   "cell_type": "code",
   "execution_count": 84,
   "metadata": {},
   "outputs": [
    {
     "data": {
      "text/plain": [
       "[0.0891,\n",
       " 0.0861,\n",
       " 0.0858,\n",
       " 0.085,\n",
       " 0.0846,\n",
       " 0.0844,\n",
       " 0.0838,\n",
       " 0.084,\n",
       " 0.0834,\n",
       " 0.0835,\n",
       " 0.0833,\n",
       " 0.0837,\n",
       " 0.0832,\n",
       " 0.0832,\n",
       " 0.0833,\n",
       " 0.083,\n",
       " 0.083,\n",
       " 0.083,\n",
       " 0.0829,\n",
       " 0.0826]"
      ]
     },
     "execution_count": 84,
     "metadata": {},
     "output_type": "execute_result"
    }
   ],
   "source": [
    "epoch_losses[-20:]\n"
   ]
  },
  {
   "cell_type": "code",
   "execution_count": null,
   "metadata": {},
   "outputs": [],
   "source": []
  }
 ],
 "metadata": {
  "kernelspec": {
   "display_name": ".venv",
   "language": "python",
   "name": "python3"
  },
  "language_info": {
   "codemirror_mode": {
    "name": "ipython",
    "version": 3
   },
   "file_extension": ".py",
   "mimetype": "text/x-python",
   "name": "python",
   "nbconvert_exporter": "python",
   "pygments_lexer": "ipython3",
   "version": "3.9.6"
  }
 },
 "nbformat": 4,
 "nbformat_minor": 2
}
