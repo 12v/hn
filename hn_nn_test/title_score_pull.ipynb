{
 "cells": [
  {
   "cell_type": "code",
   "execution_count": 45,
   "metadata": {},
   "outputs": [],
   "source": [
    "import psycopg2\n",
    "import pandas as pd\n",
    "import seaborn as sns\n",
    "import configparser\n",
    "import numpy as np\n",
    "import h5py"
   ]
  },
  {
   "cell_type": "code",
   "execution_count": 2,
   "metadata": {},
   "outputs": [],
   "source": [
    "# Read database configuration from the .ini file\n",
    "config = configparser.ConfigParser()\n",
    "config.read(\"../database.ini\")\n",
    "\n",
    "db_params = {\n",
    "    \"dbname\": config[\"postgresql\"][\"dbname\"],\n",
    "    \"user\": config[\"postgresql\"][\"user\"],\n",
    "    \"password\": config[\"postgresql\"][\"password\"],\n",
    "    \"host\": config[\"postgresql\"][\"host\"],\n",
    "}\n"
   ]
  },
  {
   "cell_type": "code",
   "execution_count": 3,
   "metadata": {},
   "outputs": [],
   "source": [
    "with psycopg2.connect(**db_params) as conn:\n",
    "    # Parameterized query\n",
    "    query = \"\"\"\n",
    "        select id\n",
    "    ,title\n",
    "    ,score\n",
    "    ,by as author\n",
    "    from hacker_news.items \n",
    "\n",
    "    where type = 'story'\n",
    "    and title is not null\n",
    "    LIMIT 100000\n",
    "    \"\"\"\n"
   ]
  },
  {
   "cell_type": "code",
   "execution_count": 4,
   "metadata": {},
   "outputs": [
    {
     "name": "stderr",
     "output_type": "stream",
     "text": [
      "/var/folders/40/wsz96msx0yj64gpqth1rs3b40000gn/T/ipykernel_53539/2978195756.py:2: UserWarning: pandas only supports SQLAlchemy connectable (engine/connection) or database string URI or sqlite3 DBAPI2 connection. Other DBAPI2 objects are not tested. Please consider using SQLAlchemy.\n",
      "  df = pd.read_sql_query(query, conn)\n",
      "/var/folders/40/wsz96msx0yj64gpqth1rs3b40000gn/T/ipykernel_53539/2978195756.py:5: UserWarning: pandas only supports SQLAlchemy connectable (engine/connection) or database string URI or sqlite3 DBAPI2 connection. Other DBAPI2 objects are not tested. Please consider using SQLAlchemy.\n",
      "  df = pd.read_sql_query(\n"
     ]
    },
    {
     "data": {
      "text/html": [
       "<div>\n",
       "<style scoped>\n",
       "    .dataframe tbody tr th:only-of-type {\n",
       "        vertical-align: middle;\n",
       "    }\n",
       "\n",
       "    .dataframe tbody tr th {\n",
       "        vertical-align: top;\n",
       "    }\n",
       "\n",
       "    .dataframe thead th {\n",
       "        text-align: right;\n",
       "    }\n",
       "</style>\n",
       "<table border=\"1\" class=\"dataframe\">\n",
       "  <thead>\n",
       "    <tr style=\"text-align: right;\">\n",
       "      <th></th>\n",
       "      <th>id</th>\n",
       "      <th>title</th>\n",
       "      <th>score</th>\n",
       "      <th>author</th>\n",
       "    </tr>\n",
       "  </thead>\n",
       "  <tbody>\n",
       "    <tr>\n",
       "      <th>0</th>\n",
       "      <td>3150000</td>\n",
       "      <td>\"What May Happen in the Next Hundred Years\", f...</td>\n",
       "      <td>19</td>\n",
       "      <td>ColinWright</td>\n",
       "    </tr>\n",
       "    <tr>\n",
       "      <th>1</th>\n",
       "      <td>3500001</td>\n",
       "      <td>Getting Started with JavaScript Unit Testing</td>\n",
       "      <td>1</td>\n",
       "      <td>hncj</td>\n",
       "    </tr>\n",
       "    <tr>\n",
       "      <th>2</th>\n",
       "      <td>3150001</td>\n",
       "      <td>Armstrong, the Django-based and open-source ne...</td>\n",
       "      <td>2</td>\n",
       "      <td>andymboyle</td>\n",
       "    </tr>\n",
       "    <tr>\n",
       "      <th>3</th>\n",
       "      <td>6050000</td>\n",
       "      <td>Why Web Reviewers Make Up Bad Things</td>\n",
       "      <td>1</td>\n",
       "      <td>digisth</td>\n",
       "    </tr>\n",
       "    <tr>\n",
       "      <th>4</th>\n",
       "      <td>150000</td>\n",
       "      <td>You Weren't Meant to Have a Boss: The Cliff Notes</td>\n",
       "      <td>1</td>\n",
       "      <td>jazzdev</td>\n",
       "    </tr>\n",
       "  </tbody>\n",
       "</table>\n",
       "</div>"
      ],
      "text/plain": [
       "        id                                              title  score  \\\n",
       "0  3150000  \"What May Happen in the Next Hundred Years\", f...     19   \n",
       "1  3500001       Getting Started with JavaScript Unit Testing      1   \n",
       "2  3150001  Armstrong, the Django-based and open-source ne...      2   \n",
       "3  6050000               Why Web Reviewers Make Up Bad Things      1   \n",
       "4   150000  You Weren't Meant to Have a Boss: The Cliff Notes      1   \n",
       "\n",
       "        author  \n",
       "0  ColinWright  \n",
       "1         hncj  \n",
       "2   andymboyle  \n",
       "3      digisth  \n",
       "4      jazzdev  "
      ]
     },
     "execution_count": 4,
     "metadata": {},
     "output_type": "execute_result"
    }
   ],
   "source": [
    "# Read directly into DataFrame \n",
    "df = pd.read_sql_query(query, conn)\n",
    "    \n",
    "# Optionally specify column dtypes\n",
    "df = pd.read_sql_query(\n",
    "        query,\n",
    "        conn\n",
    "        # ,dtype={\n",
    "        #     'integer_column': 'int32',\n",
    "        #     'float_column': 'float64'\n",
    "        # },\n",
    "        # parse_dates=['date_column']  # Automatically parse date columns\n",
    "    )\n",
    "\n",
    "df.head()"
   ]
  },
  {
   "cell_type": "code",
   "execution_count": 5,
   "metadata": {},
   "outputs": [
    {
     "data": {
      "text/html": [
       "<div>\n",
       "<style scoped>\n",
       "    .dataframe tbody tr th:only-of-type {\n",
       "        vertical-align: middle;\n",
       "    }\n",
       "\n",
       "    .dataframe tbody tr th {\n",
       "        vertical-align: top;\n",
       "    }\n",
       "\n",
       "    .dataframe thead th {\n",
       "        text-align: right;\n",
       "    }\n",
       "</style>\n",
       "<table border=\"1\" class=\"dataframe\">\n",
       "  <thead>\n",
       "    <tr style=\"text-align: right;\">\n",
       "      <th></th>\n",
       "      <th>id</th>\n",
       "      <th>title</th>\n",
       "      <th>score</th>\n",
       "      <th>author</th>\n",
       "      <th>count</th>\n",
       "      <th>words</th>\n",
       "    </tr>\n",
       "  </thead>\n",
       "  <tbody>\n",
       "    <tr>\n",
       "      <th>0</th>\n",
       "      <td>3150000</td>\n",
       "      <td>what may happen in the next hundred years from c</td>\n",
       "      <td>19</td>\n",
       "      <td>ColinWright</td>\n",
       "      <td>10</td>\n",
       "      <td>[what, may, happen, in, the, next, hundred, ye...</td>\n",
       "    </tr>\n",
       "    <tr>\n",
       "      <th>1</th>\n",
       "      <td>3500001</td>\n",
       "      <td>getting started with javascript unit testing</td>\n",
       "      <td>1</td>\n",
       "      <td>hncj</td>\n",
       "      <td>6</td>\n",
       "      <td>[getting, started, with, javascript, unit, tes...</td>\n",
       "    </tr>\n",
       "    <tr>\n",
       "      <th>2</th>\n",
       "      <td>3150001</td>\n",
       "      <td>armstrong the djangobased and opensource news ...</td>\n",
       "      <td>2</td>\n",
       "      <td>andymboyle</td>\n",
       "      <td>10</td>\n",
       "      <td>[armstrong, the, djangobased, and, opensource,...</td>\n",
       "    </tr>\n",
       "    <tr>\n",
       "      <th>3</th>\n",
       "      <td>6050000</td>\n",
       "      <td>why web reviewers make up bad things</td>\n",
       "      <td>1</td>\n",
       "      <td>digisth</td>\n",
       "      <td>7</td>\n",
       "      <td>[why, web, reviewers, make, up, bad, things]</td>\n",
       "    </tr>\n",
       "    <tr>\n",
       "      <th>4</th>\n",
       "      <td>150000</td>\n",
       "      <td>you werent meant to have a boss the cliff notes</td>\n",
       "      <td>1</td>\n",
       "      <td>jazzdev</td>\n",
       "      <td>10</td>\n",
       "      <td>[you, werent, meant, to, have, a, boss, the, c...</td>\n",
       "    </tr>\n",
       "  </tbody>\n",
       "</table>\n",
       "</div>"
      ],
      "text/plain": [
       "        id                                              title  score  \\\n",
       "0  3150000   what may happen in the next hundred years from c     19   \n",
       "1  3500001       getting started with javascript unit testing      1   \n",
       "2  3150001  armstrong the djangobased and opensource news ...      2   \n",
       "3  6050000               why web reviewers make up bad things      1   \n",
       "4   150000    you werent meant to have a boss the cliff notes      1   \n",
       "\n",
       "        author  count                                              words  \n",
       "0  ColinWright     10  [what, may, happen, in, the, next, hundred, ye...  \n",
       "1         hncj      6  [getting, started, with, javascript, unit, tes...  \n",
       "2   andymboyle     10  [armstrong, the, djangobased, and, opensource,...  \n",
       "3      digisth      7       [why, web, reviewers, make, up, bad, things]  \n",
       "4      jazzdev     10  [you, werent, meant, to, have, a, boss, the, c...  "
      ]
     },
     "execution_count": 5,
     "metadata": {},
     "output_type": "execute_result"
    }
   ],
   "source": [
    "# Count words in each title\n",
    "df['count'] = df['title'].str.split().str.len()\n",
    "\n",
    "# Remove special characters and digits using str.replace()\n",
    "df['title'] = df['title'].apply(lambda x: x.lower())  # Convert to lowercase\n",
    "df['title'] = df['title'].str.replace(r'[^\\w\\s]', '', regex=True)  # Remove special chars\n",
    "df['title'] = df['title'].str.replace(r'\\d+', '', regex=True)  # Remove digits\n",
    "\n",
    "# Split titles into words and create dictionary\n",
    "df['words'] = df['title'].str.split()\n",
    "\n",
    "# Export DataFrame to CSV\n",
    "df.to_csv('hn_titles_sample.csv', index=False)\n",
    "\n",
    "df.head()"
   ]
  },
  {
   "cell_type": "code",
   "execution_count": 24,
   "metadata": {},
   "outputs": [
    {
     "name": "stderr",
     "output_type": "stream",
     "text": [
      "/Users/andreas.paxinos/Documents/github/mli/.venv/lib/python3.9/site-packages/numpy/core/fromnumeric.py:3504: RuntimeWarning: Mean of empty slice.\n",
      "  return _methods._mean(a, axis=axis, dtype=dtype,\n",
      "/Users/andreas.paxinos/Documents/github/mli/.venv/lib/python3.9/site-packages/numpy/core/_methods.py:129: RuntimeWarning: invalid value encountered in scalar divide\n",
      "  ret = ret.dtype.type(ret / rcount)\n"
     ]
    },
    {
     "data": {
      "text/html": [
       "<div>\n",
       "<style scoped>\n",
       "    .dataframe tbody tr th:only-of-type {\n",
       "        vertical-align: middle;\n",
       "    }\n",
       "\n",
       "    .dataframe tbody tr th {\n",
       "        vertical-align: top;\n",
       "    }\n",
       "\n",
       "    .dataframe thead th {\n",
       "        text-align: right;\n",
       "    }\n",
       "</style>\n",
       "<table border=\"1\" class=\"dataframe\">\n",
       "  <thead>\n",
       "    <tr style=\"text-align: right;\">\n",
       "      <th></th>\n",
       "      <th>id</th>\n",
       "      <th>title</th>\n",
       "      <th>score</th>\n",
       "      <th>author</th>\n",
       "      <th>count</th>\n",
       "      <th>words</th>\n",
       "      <th>word_vectors</th>\n",
       "      <th>mean_vector</th>\n",
       "    </tr>\n",
       "  </thead>\n",
       "  <tbody>\n",
       "    <tr>\n",
       "      <th>0</th>\n",
       "      <td>3150000</td>\n",
       "      <td>what may happen in the next hundred years from c</td>\n",
       "      <td>19</td>\n",
       "      <td>ColinWright</td>\n",
       "      <td>10</td>\n",
       "      <td>[what, may, happen, in, the, next, hundred, ye...</td>\n",
       "      <td>[[0.0038050802, 0.00086296524, 0.0029399444, 0...</td>\n",
       "      <td>[0.00077195687, 0.00042079733, 0.00012249911, ...</td>\n",
       "    </tr>\n",
       "    <tr>\n",
       "      <th>1</th>\n",
       "      <td>3500001</td>\n",
       "      <td>getting started with javascript unit testing</td>\n",
       "      <td>1</td>\n",
       "      <td>hncj</td>\n",
       "      <td>6</td>\n",
       "      <td>[getting, started, with, javascript, unit, tes...</td>\n",
       "      <td>[[-0.0035109387, -0.0021732112, 0.00224942, -0...</td>\n",
       "      <td>[-0.0017264247, -0.00029120408, 0.0007486603, ...</td>\n",
       "    </tr>\n",
       "    <tr>\n",
       "      <th>2</th>\n",
       "      <td>3150001</td>\n",
       "      <td>armstrong the djangobased and opensource news ...</td>\n",
       "      <td>2</td>\n",
       "      <td>andymboyle</td>\n",
       "      <td>10</td>\n",
       "      <td>[armstrong, the, djangobased, and, opensource,...</td>\n",
       "      <td>[[-0.0030918512, 0.00022298544, 0.0017556854, ...</td>\n",
       "      <td>[0.0006859072, 1.0250059e-05, 0.0010865574, -0...</td>\n",
       "    </tr>\n",
       "    <tr>\n",
       "      <th>3</th>\n",
       "      <td>6050000</td>\n",
       "      <td>why web reviewers make up bad things</td>\n",
       "      <td>1</td>\n",
       "      <td>digisth</td>\n",
       "      <td>7</td>\n",
       "      <td>[why, web, reviewers, make, up, bad, things]</td>\n",
       "      <td>[[0.0026316757, -0.0016147939, 0.0027679498, 0...</td>\n",
       "      <td>[-0.00013478259, -0.0004138446, -0.0004691301,...</td>\n",
       "    </tr>\n",
       "    <tr>\n",
       "      <th>4</th>\n",
       "      <td>150000</td>\n",
       "      <td>you werent meant to have a boss the cliff notes</td>\n",
       "      <td>1</td>\n",
       "      <td>jazzdev</td>\n",
       "      <td>10</td>\n",
       "      <td>[you, werent, meant, to, have, a, boss, the, c...</td>\n",
       "      <td>[[0.0036288062, -0.0037281888, 0.0011980163, 0...</td>\n",
       "      <td>[0.00026220054, -0.0013449227, 0.0005244772, -...</td>\n",
       "    </tr>\n",
       "  </tbody>\n",
       "</table>\n",
       "</div>"
      ],
      "text/plain": [
       "        id                                              title  score  \\\n",
       "0  3150000   what may happen in the next hundred years from c     19   \n",
       "1  3500001       getting started with javascript unit testing      1   \n",
       "2  3150001  armstrong the djangobased and opensource news ...      2   \n",
       "3  6050000               why web reviewers make up bad things      1   \n",
       "4   150000    you werent meant to have a boss the cliff notes      1   \n",
       "\n",
       "        author  count                                              words  \\\n",
       "0  ColinWright     10  [what, may, happen, in, the, next, hundred, ye...   \n",
       "1         hncj      6  [getting, started, with, javascript, unit, tes...   \n",
       "2   andymboyle     10  [armstrong, the, djangobased, and, opensource,...   \n",
       "3      digisth      7       [why, web, reviewers, make, up, bad, things]   \n",
       "4      jazzdev     10  [you, werent, meant, to, have, a, boss, the, c...   \n",
       "\n",
       "                                        word_vectors  \\\n",
       "0  [[0.0038050802, 0.00086296524, 0.0029399444, 0...   \n",
       "1  [[-0.0035109387, -0.0021732112, 0.00224942, -0...   \n",
       "2  [[-0.0030918512, 0.00022298544, 0.0017556854, ...   \n",
       "3  [[0.0026316757, -0.0016147939, 0.0027679498, 0...   \n",
       "4  [[0.0036288062, -0.0037281888, 0.0011980163, 0...   \n",
       "\n",
       "                                         mean_vector  \n",
       "0  [0.00077195687, 0.00042079733, 0.00012249911, ...  \n",
       "1  [-0.0017264247, -0.00029120408, 0.0007486603, ...  \n",
       "2  [0.0006859072, 1.0250059e-05, 0.0010865574, -0...  \n",
       "3  [-0.00013478259, -0.0004138446, -0.0004691301,...  \n",
       "4  [0.00026220054, -0.0013449227, 0.0005244772, -...  "
      ]
     },
     "execution_count": 24,
     "metadata": {},
     "output_type": "execute_result"
    }
   ],
   "source": [
    "\n",
    "from gensim.models import Word2Vec\n",
    "\n",
    "model = Word2Vec.load(\"word2vec_model.model\")\n",
    "\n",
    "def get_vector(x):\n",
    "    try:\n",
    "        return np.array(model.wv[x])\n",
    "    except KeyError:\n",
    "        return None\n",
    "\n",
    "df['word_vectors'] = df['words'].apply(lambda word_list: [get_vector(word) for word in word_list])\n",
    "\n",
    "# Remove None values from word vectors\n",
    "df['word_vectors'] = df['word_vectors'].apply(lambda x: [v for v in x if v is not None])\n",
    "\n",
    "#Covert to numpy array\n",
    "df['word_vectors'] = df['word_vectors'].apply(lambda x: np.array(x))\n",
    "\n",
    "# Calculate mean vector for each title by taking mean across word vectors\n",
    "df['mean_vector'] = df['word_vectors'].apply(lambda x: np.mean(x, axis=0))\n",
    "\n",
    "\n",
    "df.head()"
   ]
  },
  {
   "cell_type": "code",
   "execution_count": 30,
   "metadata": {},
   "outputs": [
    {
     "name": "stdout",
     "output_type": "stream",
     "text": [
      "(5, 256)\n",
      "(256,)\n"
     ]
    }
   ],
   "source": [
    "#Check shape of word vectors column at index 0\n",
    "print(df['word_vectors'][0].shape)\n",
    "\n",
    "#Check shape of mean vector column at index 0\n",
    "print(df['mean_vector'][0].shape)\n"
   ]
  },
  {
   "cell_type": "code",
   "execution_count": 54,
   "metadata": {},
   "outputs": [
    {
     "name": "stderr",
     "output_type": "stream",
     "text": [
      "/var/folders/40/wsz96msx0yj64gpqth1rs3b40000gn/T/ipykernel_53539/1292129051.py:9: PerformanceWarning: \n",
      "your performance may suffer as PyTables will pickle object types that it cannot\n",
      "map directly to c-types [inferred_type->mixed,key->block1_values] [items->Index(['mean_vector'], dtype='object')]\n",
      "\n",
      "  df_clean.to_hdf('hn_title_mean_vectors_scores.h5', key='df_clean', mode='w')\n"
     ]
    }
   ],
   "source": [
    "# Drop unnecessary columns\n",
    "df_clean = df.drop(['title', 'author', 'count', 'words', 'word_vectors'], axis=1)\n",
    "\n",
    "# Remove rows where mean_vector is NaN\n",
    "df_clean = df_clean.dropna(subset=['mean_vector'])\n",
    "\n",
    "\n",
    "# Export cleaned DataFrame to CSV\n",
    "df_clean.to_hdf('hn_title_mean_vectors_scores.h5', key='df_clean', mode='w')\n"
   ]
  },
  {
   "cell_type": "code",
   "execution_count": 49,
   "metadata": {},
   "outputs": [
    {
     "name": "stdout",
     "output_type": "stream",
     "text": [
      "Rows with NaN mean vectors:\n"
     ]
    },
    {
     "data": {
      "text/html": [
       "<div>\n",
       "<style scoped>\n",
       "    .dataframe tbody tr th:only-of-type {\n",
       "        vertical-align: middle;\n",
       "    }\n",
       "\n",
       "    .dataframe tbody tr th {\n",
       "        vertical-align: top;\n",
       "    }\n",
       "\n",
       "    .dataframe thead th {\n",
       "        text-align: right;\n",
       "    }\n",
       "</style>\n",
       "<table border=\"1\" class=\"dataframe\">\n",
       "  <thead>\n",
       "    <tr style=\"text-align: right;\">\n",
       "      <th></th>\n",
       "      <th>id</th>\n",
       "      <th>score</th>\n",
       "      <th>mean_vector</th>\n",
       "    </tr>\n",
       "  </thead>\n",
       "  <tbody>\n",
       "  </tbody>\n",
       "</table>\n",
       "</div>"
      ],
      "text/plain": [
       "Empty DataFrame\n",
       "Columns: [id, score, mean_vector]\n",
       "Index: []"
      ]
     },
     "execution_count": 49,
     "metadata": {},
     "output_type": "execute_result"
    }
   ],
   "source": [
    "df_clean.head()\n"
   ]
  },
  {
   "cell_type": "code",
   "execution_count": 55,
   "metadata": {},
   "outputs": [
    {
     "name": "stdout",
     "output_type": "stream",
     "text": [
      "File size: 102.61 MB\n"
     ]
    }
   ],
   "source": [
    "import os\n",
    "\n",
    "file_size_bytes = os.path.getsize('hn_title_mean_vectors_scores.h5')\n",
    "file_size_mb = file_size_bytes / (1024 * 1024)\n",
    "print(f\"File size: {file_size_mb:.2f} MB\")\n"
   ]
  },
  {
   "cell_type": "code",
   "execution_count": null,
   "metadata": {},
   "outputs": [],
   "source": []
  }
 ],
 "metadata": {
  "kernelspec": {
   "display_name": ".venv",
   "language": "python",
   "name": "python3"
  },
  "language_info": {
   "codemirror_mode": {
    "name": "ipython",
    "version": 3
   },
   "file_extension": ".py",
   "mimetype": "text/x-python",
   "name": "python",
   "nbconvert_exporter": "python",
   "pygments_lexer": "ipython3",
   "version": "3.9.6"
  }
 },
 "nbformat": 4,
 "nbformat_minor": 2
}
