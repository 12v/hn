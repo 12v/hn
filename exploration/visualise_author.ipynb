{
 "cells": [
  {
   "cell_type": "code",
   "execution_count": 1,
   "metadata": {},
   "outputs": [],
   "source": [
    "import psycopg2\n",
    "import pandas as pd\n",
    "import seaborn as sns\n",
    "import configparser"
   ]
  },
  {
   "cell_type": "code",
   "execution_count": 2,
   "metadata": {},
   "outputs": [],
   "source": [
    "# Read database configuration from the .ini file\n",
    "config = configparser.ConfigParser()\n",
    "config.read(\"../database.ini\")\n",
    "\n",
    "db_params = {\n",
    "    \"dbname\": config[\"postgresql\"][\"dbname\"],\n",
    "    \"user\": config[\"postgresql\"][\"user\"],\n",
    "    \"password\": config[\"postgresql\"][\"password\"],\n",
    "    \"host\": config[\"postgresql\"][\"host\"],\n",
    "}\n"
   ]
  },
  {
   "cell_type": "code",
   "execution_count": 3,
   "metadata": {},
   "outputs": [],
   "source": [
    "with psycopg2.connect(**db_params) as conn:\n",
    "    # Parameterized query\n",
    "    query = \"\"\"\n",
    "        select \n",
    "            \"by\"\n",
    "            , count(id) as count\n",
    "            ,avg(score) as avg_score\n",
    "\n",
    "        from hacker_news.items\n",
    "\n",
    "        where by is not null\n",
    "        and type = 'story'\n",
    "\n",
    "        group by \"by\"\n",
    "        order by count desc\n",
    "    \"\"\"\n"
   ]
  },
  {
   "cell_type": "code",
   "execution_count": 4,
   "metadata": {},
   "outputs": [
    {
     "name": "stderr",
     "output_type": "stream",
     "text": [
      "/var/folders/40/wsz96msx0yj64gpqth1rs3b40000gn/T/ipykernel_17282/2978195756.py:2: UserWarning: pandas only supports SQLAlchemy connectable (engine/connection) or database string URI or sqlite3 DBAPI2 connection. Other DBAPI2 objects are not tested. Please consider using SQLAlchemy.\n",
      "  df = pd.read_sql_query(query, conn)\n",
      "/var/folders/40/wsz96msx0yj64gpqth1rs3b40000gn/T/ipykernel_17282/2978195756.py:5: UserWarning: pandas only supports SQLAlchemy connectable (engine/connection) or database string URI or sqlite3 DBAPI2 connection. Other DBAPI2 objects are not tested. Please consider using SQLAlchemy.\n",
      "  df = pd.read_sql_query(\n"
     ]
    },
    {
     "data": {
      "text/html": [
       "<div>\n",
       "<style scoped>\n",
       "    .dataframe tbody tr th:only-of-type {\n",
       "        vertical-align: middle;\n",
       "    }\n",
       "\n",
       "    .dataframe tbody tr th {\n",
       "        vertical-align: top;\n",
       "    }\n",
       "\n",
       "    .dataframe thead th {\n",
       "        text-align: right;\n",
       "    }\n",
       "</style>\n",
       "<table border=\"1\" class=\"dataframe\">\n",
       "  <thead>\n",
       "    <tr style=\"text-align: right;\">\n",
       "      <th></th>\n",
       "      <th>by</th>\n",
       "      <th>count</th>\n",
       "      <th>avg_score</th>\n",
       "    </tr>\n",
       "  </thead>\n",
       "  <tbody>\n",
       "    <tr>\n",
       "      <th>0</th>\n",
       "      <td>rbanffy</td>\n",
       "      <td>30849</td>\n",
       "      <td>9.041849</td>\n",
       "    </tr>\n",
       "    <tr>\n",
       "      <th>1</th>\n",
       "      <td>Tomte</td>\n",
       "      <td>23651</td>\n",
       "      <td>13.200161</td>\n",
       "    </tr>\n",
       "    <tr>\n",
       "      <th>2</th>\n",
       "      <td>tosh</td>\n",
       "      <td>20919</td>\n",
       "      <td>17.037526</td>\n",
       "    </tr>\n",
       "    <tr>\n",
       "      <th>3</th>\n",
       "      <td>pseudolus</td>\n",
       "      <td>16944</td>\n",
       "      <td>19.213291</td>\n",
       "    </tr>\n",
       "    <tr>\n",
       "      <th>4</th>\n",
       "      <td>bookofjoe</td>\n",
       "      <td>16097</td>\n",
       "      <td>10.900168</td>\n",
       "    </tr>\n",
       "  </tbody>\n",
       "</table>\n",
       "</div>"
      ],
      "text/plain": [
       "          by  count  avg_score\n",
       "0    rbanffy  30849   9.041849\n",
       "1      Tomte  23651  13.200161\n",
       "2       tosh  20919  17.037526\n",
       "3  pseudolus  16944  19.213291\n",
       "4  bookofjoe  16097  10.900168"
      ]
     },
     "execution_count": 4,
     "metadata": {},
     "output_type": "execute_result"
    }
   ],
   "source": [
    "# Read directly into DataFrame \n",
    "df = pd.read_sql_query(query, conn)\n",
    "    \n",
    "# Optionally specify column dtypes\n",
    "df = pd.read_sql_query(\n",
    "        query,\n",
    "        conn\n",
    "        # ,dtype={\n",
    "        #     'integer_column': 'int32',\n",
    "        #     'float_column': 'float64'\n",
    "        # },\n",
    "        # parse_dates=['date_column']  # Automatically parse date columns\n",
    "    )\n",
    "\n",
    "df.head()"
   ]
  },
  {
   "cell_type": "code",
   "execution_count": 6,
   "metadata": {},
   "outputs": [
    {
     "data": {
      "text/plain": [
       "<Axes: xlabel='count', ylabel='avg_score'>"
      ]
     },
     "execution_count": 6,
     "metadata": {},
     "output_type": "execute_result"
    },
    {
     "data": {
      "image/png": "[encoded data removed]",
      "text/plain": [
       "<Figure size 640x480 with 1 Axes>"
      ]
     },
     "metadata": {},
     "output_type": "display_data"
    }
   ],
   "source": [
    "# Create scatter plot\n",
    "sns.scatterplot(data=df, x='count', y='avg_score')"
   ]
  }
 ],
 "metadata": {
  "kernelspec": {
   "display_name": ".venv",
   "language": "python",
   "name": "python3"
  },
  "language_info": {
   "codemirror_mode": {
    "name": "ipython",
    "version": 3
   },
   "file_extension": ".py",
   "mimetype": "text/x-python",
   "name": "python",
   "nbconvert_exporter": "python",
   "pygments_lexer": "ipython3",
   "version": "3.9.6"
  }
 },
 "nbformat": 4,
 "nbformat_minor": 2
}
