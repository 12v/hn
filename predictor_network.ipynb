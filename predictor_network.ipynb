{
 "cells": [
  {
   "cell_type": "code",
   "execution_count": 65,
   "metadata": {},
   "outputs": [],
   "source": [
    "import random\n",
    "import os\n",
    "import torch\n",
    "from torch import nn\n",
    "from torch.utils.data import DataLoader\n",
    "from torchvision import datasets, transforms\n",
    "import numpy as np\n",
    "import pandas as pd\n",
    "from torch.utils.data import Dataset, DataLoader\n",
    "import matplotlib.pyplot as plt\n",
    "from numpy import array"
   ]
  },
  {
   "cell_type": "code",
   "execution_count": 125,
   "metadata": {},
   "outputs": [
    {
     "data": {
      "text/plain": [
       "0        19\n",
       "1         1\n",
       "2         2\n",
       "3         1\n",
       "4         1\n",
       "         ..\n",
       "99995     1\n",
       "99996     1\n",
       "99997     6\n",
       "99998     1\n",
       "99999    36\n",
       "Name: score, Length: 98735, dtype: int64"
      ]
     },
     "execution_count": 125,
     "metadata": {},
     "output_type": "execute_result"
    }
   ],
   "source": [
    "# Import the CSV file containing HN titles, mean vectors and scores\n",
    "df = pd.read_hdf('hn_title_mean_vectors_scores.h5', key='df_clean')\n",
    "\n",
    "df['score']"
   ]
  },
  {
   "cell_type": "code",
   "execution_count": 67,
   "metadata": {},
   "outputs": [
    {
     "data": {
      "text/plain": [
       "(98735, 3)"
      ]
     },
     "execution_count": 67,
     "metadata": {},
     "output_type": "execute_result"
    }
   ],
   "source": [
    "df.shape"
   ]
  },
  {
   "cell_type": "code",
   "execution_count": 68,
   "metadata": {},
   "outputs": [],
   "source": [
    "# Create dictionary in matrix and score format\n",
    "data = {\n",
    "    \"matrix\": df['mean_vector'].tolist(),\n",
    "    \"score\": df['score'].values\n",
    "}\n",
    "dataframe = pd.DataFrame(data)"
   ]
  },
  {
   "cell_type": "code",
   "execution_count": 127,
   "metadata": {},
   "outputs": [],
   "source": [
    "# #Generating random data to test training\n",
    "data = {\n",
    "    \"matrix\": [torch.rand(256) for _ in range(98735)],\n",
    "    \"score\": df['score'],\n",
    "    }\n",
    "\n",
    "\n",
    "dataframe = pd.DataFrame(data)"
   ]
  },
  {
   "cell_type": "code",
   "execution_count": 128,
   "metadata": {},
   "outputs": [
    {
     "data": {
      "text/html": [
       "<div>\n",
       "<style scoped>\n",
       "    .dataframe tbody tr th:only-of-type {\n",
       "        vertical-align: middle;\n",
       "    }\n",
       "\n",
       "    .dataframe tbody tr th {\n",
       "        vertical-align: top;\n",
       "    }\n",
       "\n",
       "    .dataframe thead th {\n",
       "        text-align: right;\n",
       "    }\n",
       "</style>\n",
       "<table border=\"1\" class=\"dataframe\">\n",
       "  <thead>\n",
       "    <tr style=\"text-align: right;\">\n",
       "      <th></th>\n",
       "      <th>matrix</th>\n",
       "      <th>score</th>\n",
       "    </tr>\n",
       "  </thead>\n",
       "  <tbody>\n",
       "    <tr>\n",
       "      <th>0</th>\n",
       "      <td>[tensor(0.7606), tensor(0.8390), tensor(0.9581...</td>\n",
       "      <td>19</td>\n",
       "    </tr>\n",
       "    <tr>\n",
       "      <th>1</th>\n",
       "      <td>[tensor(0.6599), tensor(0.2378), tensor(0.7250...</td>\n",
       "      <td>1</td>\n",
       "    </tr>\n",
       "    <tr>\n",
       "      <th>2</th>\n",
       "      <td>[tensor(0.9299), tensor(0.9484), tensor(0.4627...</td>\n",
       "      <td>2</td>\n",
       "    </tr>\n",
       "    <tr>\n",
       "      <th>3</th>\n",
       "      <td>[tensor(0.4715), tensor(0.6072), tensor(0.5657...</td>\n",
       "      <td>1</td>\n",
       "    </tr>\n",
       "    <tr>\n",
       "      <th>4</th>\n",
       "      <td>[tensor(0.2310), tensor(0.3687), tensor(0.9965...</td>\n",
       "      <td>1</td>\n",
       "    </tr>\n",
       "  </tbody>\n",
       "</table>\n",
       "</div>"
      ],
      "text/plain": [
       "                                              matrix  score\n",
       "0  [tensor(0.7606), tensor(0.8390), tensor(0.9581...     19\n",
       "1  [tensor(0.6599), tensor(0.2378), tensor(0.7250...      1\n",
       "2  [tensor(0.9299), tensor(0.9484), tensor(0.4627...      2\n",
       "3  [tensor(0.4715), tensor(0.6072), tensor(0.5657...      1\n",
       "4  [tensor(0.2310), tensor(0.3687), tensor(0.9965...      1"
      ]
     },
     "execution_count": 128,
     "metadata": {},
     "output_type": "execute_result"
    }
   ],
   "source": [
    "dataframe.head()"
   ]
  },
  {
   "cell_type": "code",
   "execution_count": 129,
   "metadata": {},
   "outputs": [],
   "source": [
    "\n",
    "\n",
    "class ProcessedData(Dataset):\n",
    "    def __init__(self, dataframe):\n",
    "        self.dataframe = dataframe\n",
    "\n",
    "    def __len__(self):\n",
    "        return len(self.dataframe)\n",
    "\n",
    "    def __getitem__(self, idx):\n",
    "        # Extract the matrix and score\n",
    "        matrix = self.dataframe.iloc[idx][\"matrix\"]\n",
    "        score = self.dataframe.iloc[idx][\"score\"]\n",
    "        \n",
    "        # Convert to PyTorch tensors\n",
    "        matrix_tensor = torch.tensor(matrix, dtype=torch.float32).squeeze() \n",
    "        score_tensor = torch.tensor(score, dtype=torch.float32)\n",
    "        \n",
    "        return matrix_tensor, score_tensor\n",
    "\n",
    "# Create Dataset\n",
    "dataset = ProcessedData(dataframe)\n",
    "\n",
    "# Defining DataLoader\n",
    "dataloader = DataLoader(dataset, batch_size=64, shuffle=True)\n",
    "\n",
    "class NeuralNetwork(nn.Module):\n",
    "    def __init__(self):\n",
    "        super().__init__()\n",
    "        self.linear_relu_stack = nn.Sequential(\n",
    "            nn.Linear(256, 64),\n",
    "            nn.ReLU(),\n",
    "            nn.Dropout(p=0.2),\n",
    "            nn.Linear(64, 4),\n",
    "            nn.ReLU(),\n",
    "            nn.Dropout(p=0.1),\n",
    "            nn.Linear(4, 1),\n",
    "        )\n",
    "\n",
    "    def forward(self, x):\n",
    "        logits = self.linear_relu_stack(x)\n",
    "        return logits\n",
    "criterion = nn.MSELoss()\n",
    "device = torch.device('cuda' if torch.cuda.is_available() else 'cpu')\n"
   ]
  },
  {
   "cell_type": "code",
   "execution_count": 130,
   "metadata": {},
   "outputs": [
    {
     "name": "stderr",
     "output_type": "stream",
     "text": [
      "/tmp/ipykernel_15659/88528420.py:14: UserWarning: To copy construct from a tensor, it is recommended to use sourceTensor.clone().detach() or sourceTensor.clone().detach().requires_grad_(True), rather than torch.tensor(sourceTensor).\n",
      "  matrix_tensor = torch.tensor(matrix, dtype=torch.float32).squeeze()\n"
     ]
    },
    {
     "name": "stdout",
     "output_type": "stream",
     "text": [
      "Epoch [30/30], Loss: 455.5966\n"
     ]
    },
    {
     "data": {
      "text/plain": [
       "[1380.8891,\n",
       " 1376.99,\n",
       " 1377.7854,\n",
       " 1376.7496,\n",
       " 1376.5855,\n",
       " 1376.2679,\n",
       " 1375.5403,\n",
       " 1375.3747,\n",
       " 1374.6278,\n",
       " 1374.0849,\n",
       " 1373.8191,\n",
       " 1373.031,\n",
       " 1374.1704,\n",
       " 1373.227,\n",
       " 1373.3287,\n",
       " 1374.0691,\n",
       " 1372.6496,\n",
       " 1373.0252,\n",
       " 1372.1963,\n",
       " 1372.1023,\n",
       " 1372.7076,\n",
       " 1372.4536,\n",
       " 1372.7663,\n",
       " 1372.1275,\n",
       " 1371.122,\n",
       " 1370.8126,\n",
       " 1372.1424,\n",
       " 1371.2656,\n",
       " 1370.4037,\n",
       " 1370.5083]"
      ]
     },
     "execution_count": 130,
     "metadata": {},
     "output_type": "execute_result"
    }
   ],
   "source": [
    "\n",
    "\n",
    "epoch_losses = []\n",
    "\n",
    "model = NeuralNetwork()\n",
    "optimiser = torch.optim.Adam(model.parameters(), lr=0.001)\n",
    "epochs=30\n",
    "for epoch in range(epochs):\n",
    "    epoch_loss = 0.0\n",
    "    for batch in dataloader:\n",
    "        # Get the input matrix and target score\n",
    "        inputs, targets = batch\n",
    "        \n",
    "        # Forward pass\n",
    "        predictions = model(inputs)\n",
    "        loss = criterion(predictions.squeeze(), targets)  # Squeeze to match dimensions\n",
    "        \n",
    "        # Backward pass and optimisation\n",
    "        optimiser.zero_grad()\n",
    "        loss.backward()\n",
    "        optimiser.step()\n",
    "        \n",
    "        epoch_loss += loss.item()\n",
    "\n",
    "    epoch_loss /= len(dataloader)\n",
    "    epoch_losses.append(epoch_loss)\n",
    "\n",
    "\n",
    "\n",
    "\n",
    "print(f\"Epoch [{epoch+1}/{epochs}], Loss: {loss.item():.4f}\")\n",
    "\n",
    "epoch_losses = [round(loss, 4) for loss in epoch_losses]\n",
    "epoch_losses\n"
   ]
  },
  {
   "cell_type": "code",
   "execution_count": 26,
   "metadata": {},
   "outputs": [
    {
     "data": {
      "text/plain": [
       "[1361.5208,\n",
       " 1352.8646,\n",
       " 1348.5354,\n",
       " 1343.6366,\n",
       " 1340.6144,\n",
       " 1336.0978,\n",
       " 1327.7114,\n",
       " 1323.219,\n",
       " 1310.7708,\n",
       " 1296.9789,\n",
       " 1283.6761,\n",
       " 1269.4318,\n",
       " 1252.3672,\n",
       " 1224.143,\n",
       " 1209.8325,\n",
       " 1173.3435,\n",
       " 1145.2942,\n",
       " 1119.6048,\n",
       " 1101.9909,\n",
       " 1073.3053]"
      ]
     },
     "execution_count": 26,
     "metadata": {},
     "output_type": "execute_result"
    }
   ],
   "source": [
    "epoch_losses[-20:]\n"
   ]
  },
  {
   "cell_type": "code",
   "execution_count": 131,
   "metadata": {},
   "outputs": [
    {
     "name": "stderr",
     "output_type": "stream",
     "text": [
      "/tmp/ipykernel_15659/608166022.py:8: UserWarning: To copy construct from a tensor, it is recommended to use sourceTensor.clone().detach() or sourceTensor.clone().detach().requires_grad_(True), rather than torch.tensor(sourceTensor).\n",
      "  inputs_tensor = torch.stack([torch.tensor(input_vec) for input_vec in inputs])\n"
     ]
    },
    {
     "data": {
      "text/plain": [
       "tensor(19.2857)"
      ]
     },
     "execution_count": 131,
     "metadata": {},
     "output_type": "execute_result"
    }
   ],
   "source": [
    "sampled_data = dataframe.sample(n=100, random_state=42)  # n=100 to get 100 random samples\n",
    "\n",
    "# Extract the input features (second column) and target scores (third column)\n",
    "inputs = list(sampled_data.iloc[:, 0])  # Extracting the feature vectors\n",
    "targets = torch.tensor(sampled_data.iloc[:, 1].values, dtype=torch.float32)  # Extracting the actual scores\n",
    "\n",
    "# Convert inputs to tensors if necessary\n",
    "inputs_tensor = torch.stack([torch.tensor(input_vec) for input_vec in inputs])\n",
    "\n",
    "# Pass the inputs through the trained model to get predictions\n",
    "model.eval()  # Set the model to evaluation mode\n",
    "with torch.no_grad():  # No need to track gradients during inference\n",
    "    predictions = model(inputs_tensor)\n",
    "\n",
    "# Calculate the absolute difference between predictions and actual scores\n",
    "differences = torch.abs(predictions.squeeze() - targets)\n",
    "\n",
    "# Compute the average difference\n",
    "average_difference = torch.mean(differences)\n",
    "\n",
    "average_difference"
   ]
  },
  {
   "cell_type": "code",
   "execution_count": 132,
   "metadata": {},
   "outputs": [
    {
     "data": {
      "text/plain": [
       "9.669337114498404"
      ]
     },
     "execution_count": 132,
     "metadata": {},
     "output_type": "execute_result"
    }
   ],
   "source": [
    "average_score = dataframe.iloc[:, 1].mean()\n",
    "average_score"
   ]
  },
  {
   "cell_type": "code",
   "execution_count": null,
   "metadata": {},
   "outputs": [],
   "source": []
  }
 ],
 "metadata": {
  "kernelspec": {
   "display_name": ".venv",
   "language": "python",
   "name": "python3"
  },
  "language_info": {
   "codemirror_mode": {
    "name": "ipython",
    "version": 3
   },
   "file_extension": ".py",
   "mimetype": "text/x-python",
   "name": "python",
   "nbconvert_exporter": "python",
   "pygments_lexer": "ipython3",
   "version": "3.10.12"
  }
 },
 "nbformat": 4,
 "nbformat_minor": 2
}
